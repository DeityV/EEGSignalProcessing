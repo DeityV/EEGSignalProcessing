{
 "cells": [
  {
   "cell_type": "code",
   "execution_count": 2,
   "metadata": {},
   "outputs": [
    {
     "data": {
      "text/plain": [
       "Text(0, 0.5, 'Mean band Amplitude')"
      ]
     },
     "execution_count": 2,
     "metadata": {},
     "output_type": "execute_result"
    },
    {
     "data": {
      "image/png": "[encoded data removed]",
      "text/plain": [
       "<Figure size 432x288 with 1 Axes>"
      ]
     },
     "metadata": {
      "needs_background": "light"
     },
     "output_type": "display_data"
    }
   ],
   "source": [
    "import pandas as pd\n",
    "import numpy as np\n",
    "\n",
    "fs = 512                                # Sampling rate (512 Hz)\n",
    "data = np.random.uniform(0, 100, 1024)  # 2 sec of data b/w 0.0-100.0\n",
    "\n",
    "# Get real amplitudes of FFT (only in postive frequencies)\n",
    "fft_vals = np.absolute(np.fft.rfft(data))\n",
    "\n",
    "# Get frequencies for amplitudes in Hz\n",
    "fft_freq = np.fft.rfftfreq(len(data), 1.0/fs)\n",
    "\n",
    "# Define EEG bands\n",
    "eeg_bands = {'Delta': (0, 4),\n",
    "             'Theta': (4, 8),\n",
    "             'Alpha': (8, 12),\n",
    "             'Beta': (12, 30),\n",
    "             'Gamma': (30, 45)}\n",
    "\n",
    "# Take the mean of the fft amplitude for each EEG band\n",
    "eeg_band_fft = dict()\n",
    "for band in eeg_bands:  \n",
    "    freq_ix = np.where((fft_freq >= eeg_bands[band][0]) & \n",
    "                       (fft_freq <= eeg_bands[band][1]))[0]\n",
    "    eeg_band_fft[band] = np.mean(fft_vals[freq_ix])\n",
    "\n",
    "# Plot the data (using pandas here cause it's easy)\n",
    "\n",
    "df = pd.DataFrame(columns=['band', 'val'])\n",
    "df['band'] = eeg_bands.keys()\n",
    "df['val'] = [eeg_band_fft[band] for band in eeg_bands]\n",
    "ax = df.plot.bar(x='band', y='val', legend=False)\n",
    "ax.set_xlabel(\"EEG band\")\n",
    "ax.set_ylabel(\"Mean band Amplitude\")"
   ]
  },
  {
   "cell_type": "code",
   "execution_count": null,
   "metadata": {},
   "outputs": [],
   "source": []
  }
 ],
 "metadata": {
  "kernelspec": {
   "display_name": "Python 3",
   "language": "python",
   "name": "python3"
  },
  "language_info": {
   "codemirror_mode": {
    "name": "ipython",
    "version": 3
   },
   "file_extension": ".py",
   "mimetype": "text/x-python",
   "name": "python",
   "nbconvert_exporter": "python",
   "pygments_lexer": "ipython3",
   "version": "3.8.1"
  }
 },
 "nbformat": 4,
 "nbformat_minor": 4
}
